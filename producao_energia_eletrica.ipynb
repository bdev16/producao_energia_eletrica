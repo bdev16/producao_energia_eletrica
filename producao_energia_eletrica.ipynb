{
  "nbformat": 4,
  "nbformat_minor": 0,
  "metadata": {
    "colab": {
      "provenance": []
    },
    "kernelspec": {
      "name": "python3",
      "display_name": "Python 3"
    },
    "language_info": {
      "name": "python"
    }
  },
  "cells": [
    {
      "cell_type": "code",
      "execution_count": null,
      "metadata": {
        "id": "fS-IKbjqOxG3"
      },
      "outputs": [],
      "source": [
        "import numpy as np"
      ]
    },
    {
      "cell_type": "code",
      "source": [
        "url_database = 'https://raw.githubusercontent.com/bdev16/producao_energia_eletrica/refs/heads/main/producao_energia.csv'"
      ],
      "metadata": {
        "id": "31s-czm4O2uM"
      },
      "execution_count": null,
      "outputs": []
    },
    {
      "cell_type": "code",
      "source": [
        "database = np.loadtxt(url_database, delimiter=',', skiprows=1, usecols=(np.arange(0,61,1)))"
      ],
      "metadata": {
        "id": "CJDGD9YLPN4A"
      },
      "execution_count": null,
      "outputs": []
    },
    {
      "cell_type": "code",
      "source": [
        "months = np.arange(database.shape[1])\n",
        "months"
      ],
      "metadata": {
        "colab": {
          "base_uri": "https://localhost:8080/"
        },
        "id": "cpKnPOGuVZfc",
        "outputId": "79a93abe-6414-4aed-beb0-0619875ace6b"
      },
      "execution_count": null,
      "outputs": [
        {
          "output_type": "execute_result",
          "data": {
            "text/plain": [
              "array([ 0,  1,  2,  3,  4,  5,  6,  7,  8,  9, 10, 11, 12, 13, 14, 15, 16,\n",
              "       17, 18, 19, 20, 21, 22, 23, 24, 25, 26, 27, 28, 29, 30, 31, 32, 33,\n",
              "       34, 35, 36, 37, 38, 39, 40, 41, 42, 43, 44, 45, 46, 47, 48, 49, 50,\n",
              "       51, 52, 53, 54, 55, 56, 57, 58, 59, 60])"
            ]
          },
          "metadata": {},
          "execution_count": 4
        }
      ]
    },
    {
      "cell_type": "code",
      "source": [
        "database_with_months = np.vstack([months, database])"
      ],
      "metadata": {
        "id": "eyoUSx7vVuye"
      },
      "execution_count": null,
      "outputs": []
    },
    {
      "cell_type": "code",
      "source": [
        "print('Formato base:', database_with_months.shape)"
      ],
      "metadata": {
        "colab": {
          "base_uri": "https://localhost:8080/"
        },
        "id": "z8OOVTISQOCG",
        "outputId": "007de0f0-bd1d-47d4-c05f-95fb4a1e9e53"
      },
      "execution_count": null,
      "outputs": [
        {
          "output_type": "stream",
          "name": "stdout",
          "text": [
            "Formato base: (6, 61)\n"
          ]
        }
      ]
    },
    {
      "cell_type": "code",
      "source": [
        "database_with_months[0:,1:]"
      ],
      "metadata": {
        "colab": {
          "base_uri": "https://localhost:8080/"
        },
        "id": "ovcizKcHRP7m",
        "outputId": "5779754b-6d21-48c7-f348-f597d47fb6c7"
      },
      "execution_count": null,
      "outputs": [
        {
          "output_type": "execute_result",
          "data": {
            "text/plain": [
              "array([[  1.,   2.,   3.,   4.,   5.,   6.,   7.,   8.,   9.,  10.,  11.,\n",
              "         12.,  13.,  14.,  15.,  16.,  17.,  18.,  19.,  20.,  21.,  22.,\n",
              "         23.,  24.,  25.,  26.,  27.,  28.,  29.,  30.,  31.,  32.,  33.,\n",
              "         34.,  35.,  36.,  37.,  38.,  39.,  40.,  41.,  42.,  43.,  44.,\n",
              "         45.,  46.,  47.,  48.,  49.,  50.,  51.,  52.,  53.,  54.,  55.,\n",
              "         56.,  57.,  58.,  59.,  60.],\n",
              "       [302., 635., 470., 306., 271., 900., 220., 814., 321., 666., 414.,\n",
              "        530., 764., 539., 291., 566., 654., 627., 708., 975., 234., 405.,\n",
              "        280., 761., 488., 578., 972., 689., 430., 240., 227., 334., 400.,\n",
              "        979., 232., 247., 773., 845., 995., 227., 819., 755., 539., 997.,\n",
              "        530., 839., 705., 547., 584., 602., 837., 329., 252., 883., 929.,\n",
              "        871., 909., 615., 446., 638.],\n",
              "       [658., 287., 572., 299., 863., 330., 861., 508., 969., 543., 691.,\n",
              "        613., 587., 201., 589., 765., 305., 971., 676., 902., 601., 929.,\n",
              "        755., 361., 702., 606., 773., 927., 298., 883., 925., 746., 938.,\n",
              "        812., 661., 842., 672., 430., 389., 424., 584., 576., 482., 832.,\n",
              "        827., 944., 458., 558., 402., 383., 322., 600., 966., 493., 479.,\n",
              "        809., 397., 710., 951., 343.],\n",
              "       [585., 391., 476., 360., 659., 513., 221., 452., 947., 760., 674.,\n",
              "        258., 401., 469., 470., 655., 661., 926., 451., 901., 495., 924.,\n",
              "        919., 948., 968., 204., 417., 702., 966., 597., 994., 592., 406.,\n",
              "        214., 753., 660., 909., 655., 610., 848., 517., 876., 424., 433.,\n",
              "        883., 863., 573., 871., 808., 400., 323., 386., 525., 663., 548.,\n",
              "        970., 859., 963., 602., 545.],\n",
              "       [710., 881., 675., 899., 982., 389., 886., 762., 766., 443., 704.,\n",
              "        330., 537., 252., 991., 416., 963., 387., 579., 692., 240., 356.,\n",
              "        214., 264., 890., 774., 942., 440., 763., 295., 933., 684., 606.,\n",
              "        430., 948., 854., 807., 671., 432., 891., 312., 696., 641., 763.,\n",
              "        467., 709., 585., 586., 710., 346., 347., 910., 688., 839., 750.,\n",
              "        537., 840., 978., 672., 350.],\n",
              "       [684., 846., 220., 366., 473., 587., 800., 515., 213., 441., 976.,\n",
              "        545., 720., 543., 328., 847., 671., 262., 338., 698., 792., 591.,\n",
              "        874., 618., 370., 740., 235., 724., 359., 898., 442., 285., 995.,\n",
              "        777., 881., 756., 312., 812., 824., 280., 898., 312., 201., 841.,\n",
              "        419., 765., 935., 424., 614., 497., 810., 462., 963., 343., 545.,\n",
              "        823., 771., 201., 503., 453.]])"
            ]
          },
          "metadata": {},
          "execution_count": 87
        }
      ]
    },
    {
      "cell_type": "markdown",
      "source": [
        "# **Quantos anos de dados temos?**"
      ],
      "metadata": {
        "id": "lPWdC9uKSoMj"
      }
    },
    {
      "cell_type": "code",
      "source": [
        "years = database_with_months[1:,0]\n",
        "years"
      ],
      "metadata": {
        "colab": {
          "base_uri": "https://localhost:8080/"
        },
        "id": "esu_yGdrSrNr",
        "outputId": "19df2c8c-48a3-4371-8f20-fcbff2628086"
      },
      "execution_count": null,
      "outputs": [
        {
          "output_type": "execute_result",
          "data": {
            "text/plain": [
              "array([2019., 2020., 2021., 2022., 2023.])"
            ]
          },
          "metadata": {},
          "execution_count": 7
        }
      ]
    },
    {
      "cell_type": "code",
      "source": [
        "print(f'Anos de dados existentes: {years.size}')"
      ],
      "metadata": {
        "colab": {
          "base_uri": "https://localhost:8080/"
        },
        "id": "5vUwEhixS0Rd",
        "outputId": "36088b6b-f0ee-43e8-d84a-bc85e151b984"
      },
      "execution_count": null,
      "outputs": [
        {
          "output_type": "stream",
          "name": "stdout",
          "text": [
            "Anos de dados existentes: 5\n"
          ]
        }
      ]
    },
    {
      "cell_type": "markdown",
      "source": [
        "# **Quantos tipos de energia são monitorados?**"
      ],
      "metadata": {
        "id": "HT6zig5-TIqH"
      }
    },
    {
      "cell_type": "code",
      "source": [
        "qtd_types_energy = database_with_months.shape[1] / 12\n",
        "qtd_types_energy"
      ],
      "metadata": {
        "colab": {
          "base_uri": "https://localhost:8080/"
        },
        "id": "rsS1IJ2BTDlv",
        "outputId": "b7699567-3f55-4855-dc0e-37e5c58a9e46"
      },
      "execution_count": null,
      "outputs": [
        {
          "output_type": "execute_result",
          "data": {
            "text/plain": [
              "5.083333333333333"
            ]
          },
          "metadata": {},
          "execution_count": 9
        }
      ]
    },
    {
      "cell_type": "code",
      "source": [
        "print(f'Estão sendo monitorados a seguinte quantidade de energia: {qtd_types_energy}')"
      ],
      "metadata": {
        "colab": {
          "base_uri": "https://localhost:8080/"
        },
        "id": "gXhGhXEIW5Ei",
        "outputId": "d540651a-9255-47a2-97b6-df8a559a286f"
      },
      "execution_count": null,
      "outputs": [
        {
          "output_type": "stream",
          "name": "stdout",
          "text": [
            "Estão sendo monitorados a seguinte quantidade de energia: 5.083333333333333\n"
          ]
        }
      ]
    },
    {
      "cell_type": "markdown",
      "source": [
        "# **Quantos meses de produção por tipo existem?**"
      ],
      "metadata": {
        "id": "2LWBwTl3ZDK7"
      }
    },
    {
      "cell_type": "code",
      "source": [
        "qtd_months = database_with_months.shape[1]\n",
        "qtd_months"
      ],
      "metadata": {
        "colab": {
          "base_uri": "https://localhost:8080/"
        },
        "id": "UZaoa6Q4ZLAs",
        "outputId": "810fc969-e6fa-4fd5-b72f-5f4f7c40bde1"
      },
      "execution_count": null,
      "outputs": [
        {
          "output_type": "execute_result",
          "data": {
            "text/plain": [
              "61"
            ]
          },
          "metadata": {},
          "execution_count": 11
        }
      ]
    },
    {
      "cell_type": "code",
      "source": [
        "print(f'Quantidade de meses de produção: {qtd_months}')"
      ],
      "metadata": {
        "colab": {
          "base_uri": "https://localhost:8080/"
        },
        "id": "0ogAvDxBZjBg",
        "outputId": "4cd35343-b22b-4d87-d68e-7241bd27068f"
      },
      "execution_count": null,
      "outputs": [
        {
          "output_type": "stream",
          "name": "stdout",
          "text": [
            "Quantidade de meses de produção: 61\n"
          ]
        }
      ]
    },
    {
      "cell_type": "markdown",
      "source": [
        "# **Exercício 2 – Estatísticas gerais**"
      ],
      "metadata": {
        "id": "BE-1a7hOYDzg"
      }
    },
    {
      "cell_type": "code",
      "source": [
        "datas_energy_production = database[:,1:]\n",
        "datas_energy_production"
      ],
      "metadata": {
        "id": "z-zkwpCwZ0WK",
        "colab": {
          "base_uri": "https://localhost:8080/"
        },
        "outputId": "d40711ab-325b-4e5f-ac46-8943e985a1bb"
      },
      "execution_count": null,
      "outputs": [
        {
          "output_type": "execute_result",
          "data": {
            "text/plain": [
              "array([[302., 635., 470., 306., 271., 900., 220., 814., 321., 666., 414.,\n",
              "        530., 764., 539., 291., 566., 654., 627., 708., 975., 234., 405.,\n",
              "        280., 761., 488., 578., 972., 689., 430., 240., 227., 334., 400.,\n",
              "        979., 232., 247., 773., 845., 995., 227., 819., 755., 539., 997.,\n",
              "        530., 839., 705., 547., 584., 602., 837., 329., 252., 883., 929.,\n",
              "        871., 909., 615., 446., 638.],\n",
              "       [658., 287., 572., 299., 863., 330., 861., 508., 969., 543., 691.,\n",
              "        613., 587., 201., 589., 765., 305., 971., 676., 902., 601., 929.,\n",
              "        755., 361., 702., 606., 773., 927., 298., 883., 925., 746., 938.,\n",
              "        812., 661., 842., 672., 430., 389., 424., 584., 576., 482., 832.,\n",
              "        827., 944., 458., 558., 402., 383., 322., 600., 966., 493., 479.,\n",
              "        809., 397., 710., 951., 343.],\n",
              "       [585., 391., 476., 360., 659., 513., 221., 452., 947., 760., 674.,\n",
              "        258., 401., 469., 470., 655., 661., 926., 451., 901., 495., 924.,\n",
              "        919., 948., 968., 204., 417., 702., 966., 597., 994., 592., 406.,\n",
              "        214., 753., 660., 909., 655., 610., 848., 517., 876., 424., 433.,\n",
              "        883., 863., 573., 871., 808., 400., 323., 386., 525., 663., 548.,\n",
              "        970., 859., 963., 602., 545.],\n",
              "       [710., 881., 675., 899., 982., 389., 886., 762., 766., 443., 704.,\n",
              "        330., 537., 252., 991., 416., 963., 387., 579., 692., 240., 356.,\n",
              "        214., 264., 890., 774., 942., 440., 763., 295., 933., 684., 606.,\n",
              "        430., 948., 854., 807., 671., 432., 891., 312., 696., 641., 763.,\n",
              "        467., 709., 585., 586., 710., 346., 347., 910., 688., 839., 750.,\n",
              "        537., 840., 978., 672., 350.],\n",
              "       [684., 846., 220., 366., 473., 587., 800., 515., 213., 441., 976.,\n",
              "        545., 720., 543., 328., 847., 671., 262., 338., 698., 792., 591.,\n",
              "        874., 618., 370., 740., 235., 724., 359., 898., 442., 285., 995.,\n",
              "        777., 881., 756., 312., 812., 824., 280., 898., 312., 201., 841.,\n",
              "        419., 765., 935., 424., 614., 497., 810., 462., 963., 343., 545.,\n",
              "        823., 771., 201., 503., 453.]])"
            ]
          },
          "metadata": {},
          "execution_count": 13
        }
      ]
    },
    {
      "cell_type": "code",
      "source": [
        "print(f'Média de produção total de energia: {datas_energy_production.mean()} Watts')"
      ],
      "metadata": {
        "colab": {
          "base_uri": "https://localhost:8080/"
        },
        "id": "tjtKMEfNYcql",
        "outputId": "80c40cc1-1fb3-4187-ce15-ea7b5f11a717"
      },
      "execution_count": null,
      "outputs": [
        {
          "output_type": "stream",
          "name": "stdout",
          "text": [
            "Média de produção total de energia: 615.9333333333333 Watts\n"
          ]
        }
      ]
    },
    {
      "cell_type": "code",
      "source": [
        "print(f'O desvio padrão de produção total de energia: {np.std(datas_energy_production)}')"
      ],
      "metadata": {
        "colab": {
          "base_uri": "https://localhost:8080/"
        },
        "id": "PIayHcGnYwTJ",
        "outputId": "9d2c9ac5-040c-49f4-a419-3524132cda28"
      },
      "execution_count": null,
      "outputs": [
        {
          "output_type": "stream",
          "name": "stdout",
          "text": [
            "O desvio padrão de produção total de energia: 231.17888215742275\n"
          ]
        }
      ]
    },
    {
      "cell_type": "code",
      "source": [
        "print(f'A maior produção de energia registrada: {np.max(datas_energy_production)}')"
      ],
      "metadata": {
        "colab": {
          "base_uri": "https://localhost:8080/"
        },
        "id": "vDfnc_9GaBk7",
        "outputId": "f4be8761-43d7-4d36-e51d-7a2831b99d15"
      },
      "execution_count": null,
      "outputs": [
        {
          "output_type": "stream",
          "name": "stdout",
          "text": [
            "A maior produção de energia registrada: 997.0\n"
          ]
        }
      ]
    },
    {
      "cell_type": "code",
      "source": [
        "print(f'A menor produção de energia registrada: {np.min(datas_energy_production)}')"
      ],
      "metadata": {
        "colab": {
          "base_uri": "https://localhost:8080/"
        },
        "id": "FvQhBTp_adyo",
        "outputId": "ab91896f-3849-4858-b92a-234ffd6d31ff"
      },
      "execution_count": null,
      "outputs": [
        {
          "output_type": "stream",
          "name": "stdout",
          "text": [
            "A menor produção de energia registrada: 201.0\n"
          ]
        }
      ]
    },
    {
      "cell_type": "markdown",
      "source": [
        "# **Exercício 3 – Transposição**\n",
        "\n",
        "**Objetivos:**\n",
        "\n",
        "**Médias mensais por tipo de energia:**\n",
        "\n",
        "**Quais meses apresentaram maior média de produção?**\n",
        "R: AGOSTO, OUTUBRO e NOVEMBRO"
      ],
      "metadata": {
        "id": "ClUAsHCCa8RN"
      }
    },
    {
      "cell_type": "markdown",
      "source": [],
      "metadata": {
        "id": "joFNBGdlSbSN"
      }
    },
    {
      "cell_type": "code",
      "source": [
        "transposed_database_with_months = database_with_months.T"
      ],
      "metadata": {
        "id": "6STRrr_Ma9tE"
      },
      "execution_count": null,
      "outputs": []
    },
    {
      "cell_type": "code",
      "source": [
        "def totaly_energy_mounth(month,year):\n",
        "\n",
        "  totaly_energy_value_month = np.array([])\n",
        "\n",
        "  if month == 1:\n",
        "    sol_energy_value_1 = transposed_database_with_months[1,year]\n",
        "    eolic_energy_value_1 = transposed_database_with_months[13,year]\n",
        "    hidro_energy_value_1 = transposed_database_with_months[25,year]\n",
        "    termo_energy_value_1 = transposed_database_with_months[37,year]\n",
        "    nuclear_energy_value_1 = transposed_database_with_months[49,year]\n",
        "    totaly_energy_value_month = np.copy(np.vstack([sol_energy_value_1, eolic_energy_value_1, hidro_energy_value_1, termo_energy_value_1, nuclear_energy_value_1]))\n",
        "  if month == 2:\n",
        "    sol_energy_value_2 = transposed_database_with_months[2,year]\n",
        "    eolic_energy_value_2 = transposed_database_with_months[14,year]\n",
        "    hidro_energy_value_2 = transposed_database_with_months[26,year]\n",
        "    termo_energy_value_2 = transposed_database_with_months[38,year]\n",
        "    nuclear_energy_value_2 = transposed_database_with_months[50,year]\n",
        "    totaly_energy_value_month = np.copy(np.vstack([sol_energy_value_2, eolic_energy_value_2, hidro_energy_value_2, termo_energy_value_2, nuclear_energy_value_2]))\n",
        "  if month == 3:\n",
        "    sol_energy_value_3 = transposed_database_with_months[3,year]\n",
        "    eolic_energy_value_3 = transposed_database_with_months[15,year]\n",
        "    hidro_energy_value_3 = transposed_database_with_months[27,year]\n",
        "    termo_energy_value_3 = transposed_database_with_months[39,year]\n",
        "    nuclear_energy_value_3 = transposed_database_with_months[51,year]\n",
        "    totaly_energy_value_month = np.copy(np.vstack([sol_energy_value_3, eolic_energy_value_3, hidro_energy_value_3, termo_energy_value_3, nuclear_energy_value_3]))\n",
        "  if month == 4:\n",
        "    sol_energy_value_4 = transposed_database_with_months[4,year]\n",
        "    eolic_energy_value_4 = transposed_database_with_months[16,year]\n",
        "    hidro_energy_value_4 = transposed_database_with_months[28,year]\n",
        "    termo_energy_value_4 = transposed_database_with_months[40,year]\n",
        "    nuclear_energy_value_4 = transposed_database_with_months[52,year]\n",
        "    totaly_energy_value_month = np.copy(np.vstack([sol_energy_value_4, eolic_energy_value_4, hidro_energy_value_4, termo_energy_value_4, nuclear_energy_value_4]))\n",
        "  if month == 5:\n",
        "    sol_energy_value_5 = transposed_database_with_months[5,year]\n",
        "    eolic_energy_value_5 = transposed_database_with_months[17,year]\n",
        "    hidro_energy_value_5 = transposed_database_with_months[29,year]\n",
        "    termo_energy_value_5 = transposed_database_with_months[41,year]\n",
        "    nuclear_energy_value_5 = transposed_database_with_months[53,year]\n",
        "    totaly_energy_value_month = np.copy(np.vstack([sol_energy_value_5, eolic_energy_value_5, hidro_energy_value_5, termo_energy_value_5, nuclear_energy_value_5]))\n",
        "  if month == 6:\n",
        "    sol_energy_value_6 = transposed_database_with_months[6,year]\n",
        "    eolic_energy_value_6 = transposed_database_with_months[18,year]\n",
        "    hidro_energy_value_6 = transposed_database_with_months[30,year]\n",
        "    termo_energy_value_6 = transposed_database_with_months[42,year]\n",
        "    nuclear_energy_value_6 = transposed_database_with_months[54,year]\n",
        "    totaly_energy_value_month = np.copy(np.vstack([sol_energy_value_6, eolic_energy_value_6, hidro_energy_value_6, termo_energy_value_6, nuclear_energy_value_6]))\n",
        "  if month == 7:\n",
        "    sol_energy_value_7 = transposed_database_with_months[7,year]\n",
        "    eolic_energy_value_7 = transposed_database_with_months[19,year]\n",
        "    hidro_energy_value_7 = transposed_database_with_months[31,year]\n",
        "    termo_energy_value_7 = transposed_database_with_months[43,year]\n",
        "    nuclear_energy_value_7 = transposed_database_with_months[55,year]\n",
        "    totaly_energy_value_month = np.copy(np.vstack([sol_energy_value_7, eolic_energy_value_7, hidro_energy_value_7, termo_energy_value_7, nuclear_energy_value_7]))\n",
        "  if month == 8:\n",
        "    sol_energy_value_8 = transposed_database_with_months[8,year]\n",
        "    eolic_energy_value_8 = transposed_database_with_months[20,year]\n",
        "    hidro_energy_value_8 = transposed_database_with_months[32,year]\n",
        "    termo_energy_value_8 = transposed_database_with_months[44,year]\n",
        "    nuclear_energy_value_8 = transposed_database_with_months[56,year]\n",
        "    totaly_energy_value_month = np.copy(np.vstack([sol_energy_value_8, eolic_energy_value_8, hidro_energy_value_8, termo_energy_value_8, nuclear_energy_value_8]))\n",
        "  if month == 9:\n",
        "    sol_energy_value_9 = transposed_database_with_months[9,year]\n",
        "    eolic_energy_value_9 = transposed_database_with_months[21,year]\n",
        "    hidro_energy_value_9 = transposed_database_with_months[33,year]\n",
        "    termo_energy_value_9 = transposed_database_with_months[45,year]\n",
        "    nuclear_energy_value_9 = transposed_database_with_months[57,year]\n",
        "    totaly_energy_value_month = np.copy(np.vstack([sol_energy_value_9, eolic_energy_value_9, hidro_energy_value_9, termo_energy_value_9, nuclear_energy_value_9]))\n",
        "  if month == 10:\n",
        "    sol_energy_value_10 = transposed_database_with_months[10,year]\n",
        "    eolic_energy_value_10 = transposed_database_with_months[22,year]\n",
        "    hidro_energy_value_10 = transposed_database_with_months[34,year]\n",
        "    termo_energy_value_10 = transposed_database_with_months[46,year]\n",
        "    nuclear_energy_value_10 = transposed_database_with_months[58,year]\n",
        "    totaly_energy_value_month = np.copy(np.vstack([sol_energy_value_10, eolic_energy_value_10, hidro_energy_value_10, termo_energy_value_10, nuclear_energy_value_10]))\n",
        "  if month == 11:\n",
        "    sol_energy_value_11 = transposed_database_with_months[11,year]\n",
        "    eolic_energy_value_11 = transposed_database_with_months[23,year]\n",
        "    hidro_energy_value_11 = transposed_database_with_months[35,year]\n",
        "    termo_energy_value_11 = transposed_database_with_months[47,year]\n",
        "    nuclear_energy_value_11 = transposed_database_with_months[59,year]\n",
        "    totaly_energy_value_month = np.copy(np.vstack([sol_energy_value_11, eolic_energy_value_11, hidro_energy_value_11, termo_energy_value_11, nuclear_energy_value_11]))\n",
        "  if month == 12:\n",
        "    sol_energy_value_12 = transposed_database_with_months[12,year]\n",
        "    eolic_energy_value_12 = transposed_database_with_months[24,year]\n",
        "    hidro_energy_value_12 = transposed_database_with_months[36,year]\n",
        "    termo_energy_value_12 = transposed_database_with_months[48,year]\n",
        "    nuclear_energy_value_12 = transposed_database_with_months[60,year]\n",
        "    totaly_energy_value_month = np.copy(np.vstack([sol_energy_value_12, eolic_energy_value_12, hidro_energy_value_12, termo_energy_value_12, nuclear_energy_value_12]))\n",
        "\n",
        "  return totaly_energy_value_month"
      ],
      "metadata": {
        "id": "5NtYr9UGgpJu"
      },
      "execution_count": null,
      "outputs": []
    },
    {
      "cell_type": "code",
      "source": [
        "totaly_energy_jan_19 = totaly_energy_mounth(1,1)\n",
        "totaly_energy_jan_20 = totaly_energy_mounth(1,2)\n",
        "totaly_energy_jan_21 = totaly_energy_mounth(1,3)\n",
        "totaly_energy_jan_22 = totaly_energy_mounth(1,4)\n",
        "totaly_energy_jan_23 = totaly_energy_mounth(1,5)\n",
        "print(f'Media de total energia produzida no mês de janeiro nos seguintes anos:\\n2019: {np.mean(totaly_energy_jan_19)}\\n2020: {np.mean(totaly_energy_jan_20)}\\n2021: {np.mean(totaly_energy_jan_21)}\\n2022: {np.mean(totaly_energy_jan_22)}\\n2023: {np.mean(totaly_energy_jan_23)}')\n"
      ],
      "metadata": {
        "colab": {
          "base_uri": "https://localhost:8080/"
        },
        "id": "ja-ZZE0el2d0",
        "outputId": "0b6ee207-903e-4579-c176-c8a8f0ed13ce"
      },
      "execution_count": null,
      "outputs": [
        {
          "output_type": "stream",
          "name": "stdout",
          "text": [
            "Media de total energia produzida no mês de janeiro nos seguintes anos:\n",
            "2019: 582.2\n",
            "2020: 604.2\n",
            "2021: 734.2\n",
            "2022: 730.8\n",
            "2023: 540.0\n"
          ]
        }
      ]
    },
    {
      "cell_type": "code",
      "source": [
        "totaly_energy_feb_19 = totaly_energy_mounth(2,1)\n",
        "totaly_energy_feb_20 = totaly_energy_mounth(2,2)\n",
        "totaly_energy_feb_21 = totaly_energy_mounth(2,3)\n",
        "totaly_energy_feb_22 = totaly_energy_mounth(2,4)\n",
        "totaly_energy_feb_23 = totaly_energy_mounth(2,5)\n",
        "print(f'Media de total energia produzida no mês de fevereiro nos seguintes anos:\\n2019: {np.mean(totaly_energy_feb_19)}\\n2020: {np.mean(totaly_energy_feb_20)}\\n2021: {np.mean(totaly_energy_feb_21)}\\n2022: {np.mean(totaly_energy_feb_22)}\\n2023: {np.mean(totaly_energy_feb_23)}')\n"
      ],
      "metadata": {
        "colab": {
          "base_uri": "https://localhost:8080/"
        },
        "id": "6bF6Pbu-maGI",
        "outputId": "18482f9e-4f37-4bfa-9a87-101372a7db28"
      },
      "execution_count": null,
      "outputs": [
        {
          "output_type": "stream",
          "name": "stdout",
          "text": [
            "Media de total energia produzida no mês de fevereiro nos seguintes anos:\n",
            "2019: 639.8\n",
            "2020: 381.4\n",
            "2021: 423.8\n",
            "2022: 584.8\n",
            "2023: 687.6\n"
          ]
        }
      ]
    },
    {
      "cell_type": "code",
      "source": [
        "totaly_energy_mar_19 = totaly_energy_mounth(3,1)\n",
        "totaly_energy_mar_20 = totaly_energy_mounth(3,2)\n",
        "totaly_energy_mar_21 = totaly_energy_mounth(3,3)\n",
        "totaly_energy_mar_22 = totaly_energy_mounth(3,4)\n",
        "totaly_energy_mar_23 = totaly_energy_mounth(3,5)\n",
        "print(f'Media de total energia produzida no mês de março nos seguintes anos:\\n2019: {np.mean(totaly_energy_mar_19)}\\n2020: {np.mean(totaly_energy_mar_20)}\\n2021: {np.mean(totaly_energy_mar_21)}\\n2022: {np.mean(totaly_energy_mar_21)}\\n2023: {np.mean(totaly_energy_mar_23)}')"
      ],
      "metadata": {
        "colab": {
          "base_uri": "https://localhost:8080/"
        },
        "id": "8ib2kvmfgGuA",
        "outputId": "eadbc88e-7fe5-498b-cc91-a4f50d50e62f"
      },
      "execution_count": null,
      "outputs": [
        {
          "output_type": "stream",
          "name": "stdout",
          "text": [
            "Media de total energia produzida no mês de março nos seguintes anos:\n",
            "2019: 713.0\n",
            "2020: 529.0\n",
            "2021: 459.2\n",
            "2022: 459.2\n",
            "2023: 483.4\n"
          ]
        }
      ]
    },
    {
      "cell_type": "code",
      "source": [
        "totaly_energy_april_19 = totaly_energy_mounth(4,1)\n",
        "totaly_energy_april_20 = totaly_energy_mounth(4,2)\n",
        "totaly_energy_april_21 = totaly_energy_mounth(4,3)\n",
        "totaly_energy_april_22 = totaly_energy_mounth(4,4)\n",
        "totaly_energy_april_23 = totaly_energy_mounth(4,5)\n",
        "print(f'Media de total energia produzida no mês de abril nos seguintes anos:\\n2019: {np.mean(totaly_energy_april_19)}\\n2020: {np.mean(totaly_energy_april_20)}\\n2021: {np.mean(totaly_energy_april_21)}\\n2022: {np.mean(totaly_energy_april_22)}\\n2023: {np.mean(totaly_energy_april_23)}')"
      ],
      "metadata": {
        "colab": {
          "base_uri": "https://localhost:8080/"
        },
        "id": "8mbCYqIlqAUN",
        "outputId": "e9929625-2b17-4977-ad17-978d3dd2c375"
      },
      "execution_count": null,
      "outputs": [
        {
          "output_type": "stream",
          "name": "stdout",
          "text": [
            "Media de total energia produzida no mês de abril nos seguintes anos:\n",
            "2019: 423.4\n",
            "2020: 603.0\n",
            "2021: 590.2\n",
            "2022: 711.2\n",
            "2023: 535.8\n"
          ]
        }
      ]
    },
    {
      "cell_type": "code",
      "source": [
        "totaly_energy_may_19 = totaly_energy_mounth(5,1)\n",
        "totaly_energy_may_20 = totaly_energy_mounth(5,2)\n",
        "totaly_energy_may_21 = totaly_energy_mounth(5,3)\n",
        "totaly_energy_may_22 = totaly_energy_mounth(5,4)\n",
        "totaly_energy_may_23 = totaly_energy_mounth(5,5)\n",
        "print(f'Media de total energia produzida no mês de maio nos seguintes anos:\\n2019: {np.mean(totaly_energy_may_19)}\\n2020: {np.mean(totaly_energy_may_20)}\\n2021: {np.mean(totaly_energy_may_21)}\\n2022: {np.mean(totaly_energy_may_22)}\\n2023: {np.mean(totaly_energy_may_23)}')"
      ],
      "metadata": {
        "colab": {
          "base_uri": "https://localhost:8080/"
        },
        "id": "VWwzVmF3qQ0g",
        "outputId": "154dd06b-70e1-46d8-ef45-1604ac519e11"
      },
      "execution_count": null,
      "outputs": [
        {
          "output_type": "stream",
          "name": "stdout",
          "text": [
            "Media de total energia produzida no mês de maio nos seguintes anos:\n",
            "2019: 485.2\n",
            "2020: 603.2\n",
            "2021: 665.6\n",
            "2022: 741.6\n",
            "2023: 672.8\n"
          ]
        }
      ]
    },
    {
      "cell_type": "code",
      "source": [
        "totaly_energy_june_19 = totaly_energy_mounth(6,1)\n",
        "totaly_energy_june_20 = totaly_energy_mounth(6,2)\n",
        "totaly_energy_june_21 = totaly_energy_mounth(6,3)\n",
        "totaly_energy_june_22 = totaly_energy_mounth(6,4)\n",
        "totaly_energy_june_23 = totaly_energy_mounth(6,5)\n",
        "print(f'Media de total energia produzida no mês de junho nos seguintes anos:\\n2019: {np.mean(totaly_energy_june_19)}\\n2020: {np.mean(totaly_energy_june_20)}\\n2021: {np.mean(totaly_energy_june_21)}\\n2022: {np.mean(totaly_energy_june_22)}\\n2023: {np.mean(totaly_energy_june_23)}')"
      ],
      "metadata": {
        "colab": {
          "base_uri": "https://localhost:8080/"
        },
        "id": "oBK8bKciqZzh",
        "outputId": "261ed6e8-1f7d-4076-bb7b-11dcc467dfe0"
      },
      "execution_count": null,
      "outputs": [
        {
          "output_type": "stream",
          "name": "stdout",
          "text": [
            "Media de total energia produzida no mês de junho nos seguintes anos:\n",
            "2019: 681.0\n",
            "2020: 650.6\n",
            "2021: 715.0\n",
            "2022: 521.2\n",
            "2023: 480.4\n"
          ]
        }
      ]
    },
    {
      "cell_type": "code",
      "source": [
        "totaly_energy_july_19 = totaly_energy_mounth(7,1)\n",
        "totaly_energy_july_20 = totaly_energy_mounth(7,2)\n",
        "totaly_energy_july_21 = totaly_energy_mounth(7,3)\n",
        "totaly_energy_july_22 = totaly_energy_mounth(7,4)\n",
        "totaly_energy_july_23 = totaly_energy_mounth(7,5)\n",
        "print(f'Media de total energia produzida no mês de julho nos seguintes anos:\\n2019: {np.mean(totaly_energy_july_19)}\\n2020: {np.mean(totaly_energy_july_20)}\\n2021: {np.mean(totaly_energy_july_21)}\\n2022: {np.mean(totaly_energy_july_22)}\\n2023: {np.mean(totaly_energy_july_23)}')"
      ],
      "metadata": {
        "colab": {
          "base_uri": "https://localhost:8080/"
        },
        "id": "JU66DUyVqoi7",
        "outputId": "c831a69e-af5b-4c62-bd4f-ec4186853f59"
      },
      "execution_count": null,
      "outputs": [
        {
          "output_type": "stream",
          "name": "stdout",
          "text": [
            "Media de total energia produzida no mês de julho nos seguintes anos:\n",
            "2019: 524.6\n",
            "2020: 684.6\n",
            "2021: 527.6\n",
            "2022: 757.8\n",
            "2023: 465.2\n"
          ]
        }
      ]
    },
    {
      "cell_type": "code",
      "source": [
        "totaly_energy_aug_19 = totaly_energy_mounth(8,1)\n",
        "totaly_energy_aug_20 = totaly_energy_mounth(8,2)\n",
        "totaly_energy_aug_21 = totaly_energy_mounth(8,3)\n",
        "totaly_energy_aug_22 = totaly_energy_mounth(8,4)\n",
        "totaly_energy_aug_23 = totaly_energy_mounth(8,5)\n",
        "print(f'Media de total energia produzida no mês de agosto nos seguintes anos:\\n2019: {np.mean(totaly_energy_aug_19)}\\n2020: {np.mean(totaly_energy_aug_20)}\\n2021: {np.mean(totaly_energy_aug_21)}\\n2022: {np.mean(totaly_energy_aug_22)}\\n2023: {np.mean(totaly_energy_aug_23)}')"
      ],
      "metadata": {
        "colab": {
          "base_uri": "https://localhost:8080/"
        },
        "id": "s9SsXPa3qwcO",
        "outputId": "676e405c-3fb1-4771-8645-cf8c8b27abe0"
      },
      "execution_count": null,
      "outputs": [
        {
          "output_type": "stream",
          "name": "stdout",
          "text": [
            "Media de total energia produzida no mês de agosto nos seguintes anos:\n",
            "2019: 798.2\n",
            "2020: 759.4\n",
            "2021: 669.6\n",
            "2022: 687.6\n",
            "2023: 632.4\n"
          ]
        }
      ]
    },
    {
      "cell_type": "code",
      "source": [
        "totaly_energy_sep_19 = totaly_energy_mounth(9,1)\n",
        "totaly_energy_sep_20 = totaly_energy_mounth(9,2)\n",
        "totaly_energy_sep_21 = totaly_energy_mounth(9,3)\n",
        "totaly_energy_sep_22 = totaly_energy_mounth(9,4)\n",
        "totaly_energy_sep_23 = totaly_energy_mounth(9,5)\n",
        "print(f'Media de total energia produzida no mês de agosto nos seguintes anos:\\n2019: {np.mean(totaly_energy_sep_19)}\\n2020: {np.mean(totaly_energy_sep_20)}\\n2021: {np.mean(totaly_energy_sep_21)}\\n2022: {np.mean(totaly_energy_sep_22)}\\n2023: {np.mean(totaly_energy_sep_23)}')"
      ],
      "metadata": {
        "colab": {
          "base_uri": "https://localhost:8080/"
        },
        "id": "xMk-Ljzbq3u-",
        "outputId": "bed34a30-a93d-4df6-9cb4-2085579df8d5"
      },
      "execution_count": null,
      "outputs": [
        {
          "output_type": "stream",
          "name": "stdout",
          "text": [
            "Media de total energia produzida no mês de agosto nos seguintes anos:\n",
            "2019: 478.8\n",
            "2020: 746.4\n",
            "2021: 718.0\n",
            "2022: 583.8\n",
            "2023: 638.0\n"
          ]
        }
      ]
    },
    {
      "cell_type": "code",
      "source": [
        "totaly_energy_oct_19 = totaly_energy_mounth(10,1)\n",
        "totaly_energy_oct_20 = totaly_energy_mounth(10,2)\n",
        "totaly_energy_oct_21 = totaly_energy_mounth(10,3)\n",
        "totaly_energy_oct_22 = totaly_energy_mounth(10,4)\n",
        "totaly_energy_oct_23 = totaly_energy_mounth(10,5)\n",
        "print(f'Media de total energia produzida no mês de agosto nos seguintes anos:\\n2019: {np.mean(totaly_energy_oct_19)}\\n2020: {np.mean(totaly_energy_oct_20)}\\n2021: {np.mean(totaly_energy_oct_21)}\\n2022: {np.mean(totaly_energy_oct_22)}\\n2023: {np.mean(totaly_energy_oct_23)}')"
      ],
      "metadata": {
        "colab": {
          "base_uri": "https://localhost:8080/"
        },
        "id": "HtY3q3oWrYWL",
        "outputId": "cee9b46f-efbf-4e0f-c91b-f5af8bacc35f"
      },
      "execution_count": null,
      "outputs": [
        {
          "output_type": "stream",
          "name": "stdout",
          "text": [
            "Media de total energia produzida no mês de agosto nos seguintes anos:\n",
            "2019: 700.8\n",
            "2020: 787.6\n",
            "2021: 744.8\n",
            "2022: 583.2\n",
            "2023: 555.0\n"
          ]
        }
      ]
    },
    {
      "cell_type": "code",
      "source": [
        "totaly_energy_nov_19 = totaly_energy_mounth(11,1)\n",
        "totaly_energy_nov_20 = totaly_energy_mounth(11,2)\n",
        "totaly_energy_nov_21 = totaly_energy_mounth(11,3)\n",
        "totaly_energy_nov_22 = totaly_energy_mounth(11,4)\n",
        "totaly_energy_nov_23 = totaly_energy_mounth(11,5)\n",
        "print(f'Media de total energia produzida no mês de agosto nos seguintes anos:\\n2019: {np.mean(totaly_energy_nov_19)}\\n2020: {np.mean(totaly_energy_nov_20)}\\n2021: {np.mean(totaly_energy_nov_21)}\\n2022: {np.mean(totaly_energy_nov_22)}\\n2023: {np.mean(totaly_energy_nov_23)}')"
      ],
      "metadata": {
        "colab": {
          "base_uri": "https://localhost:8080/"
        },
        "id": "qfFyZKOErcxs",
        "outputId": "e7f81c7f-97c9-4edb-cfad-25e9c9222f52"
      },
      "execution_count": null,
      "outputs": [
        {
          "output_type": "stream",
          "name": "stdout",
          "text": [
            "Media de total energia produzida no mês de agosto nos seguintes anos:\n",
            "2019: 415.4\n",
            "2020: 703.2\n",
            "2021: 704.2\n",
            "2022: 624.6\n",
            "2023: 833.8\n"
          ]
        }
      ]
    },
    {
      "cell_type": "code",
      "source": [
        "totaly_energy_dec_19 = totaly_energy_mounth(12,1)\n",
        "totaly_energy_dec_20 = totaly_energy_mounth(12,2)\n",
        "totaly_energy_dec_21 = totaly_energy_mounth(12,3)\n",
        "totaly_energy_dec_22 = totaly_energy_mounth(12,4)\n",
        "totaly_energy_dec_23 = totaly_energy_mounth(12,5)\n",
        "print(f'Media de total energia produzida no mês de dezembro nos seguintes anos:\\n2019: {np.mean(totaly_energy_dec_19)}\\n2020: {np.mean(totaly_energy_dec_20)}\\n2021: {np.mean(totaly_energy_dec_21)}\\n2022: {np.mean(totaly_energy_dec_22)}\\n2023: {np.mean(totaly_energy_dec_23)}')"
      ],
      "metadata": {
        "colab": {
          "base_uri": "https://localhost:8080/"
        },
        "id": "g5oH04fFrhbF",
        "outputId": "a92d0c9d-cc31-4826-c5c7-a09fba50c6e6"
      },
      "execution_count": null,
      "outputs": [
        {
          "output_type": "stream",
          "name": "stdout",
          "text": [
            "Media de total energia produzida no mês de dezembro nos seguintes anos:\n",
            "2019: 544.6\n",
            "2020: 543.4\n",
            "2021: 656.4\n",
            "2022: 476.8\n",
            "2023: 559.2\n"
          ]
        }
      ]
    },
    {
      "cell_type": "code",
      "source": [
        "import matplotlib.pyplot as plt"
      ],
      "metadata": {
        "id": "9sv79IR8xaKS"
      },
      "execution_count": null,
      "outputs": []
    },
    {
      "cell_type": "code",
      "source": [
        "totaly_values_energy_jan = np.vstack([np.mean(totaly_energy_jan_19), np.mean(totaly_energy_jan_20), np.mean(totaly_energy_jan_21), np.mean(totaly_energy_jan_22), np.mean(totaly_energy_jan_23)])\n",
        "totaly_values_energy_feb = np.vstack([np.mean(totaly_energy_feb_19), np.mean(totaly_energy_feb_20), np.mean(totaly_energy_feb_21), np.mean(totaly_energy_feb_22), np.mean(totaly_energy_feb_23)])\n",
        "totaly_values_energy_mar = np.vstack([np.mean(totaly_energy_mar_19), np.mean(totaly_energy_mar_20), np.mean(totaly_energy_mar_21), np.mean(totaly_energy_mar_22), np.mean(totaly_energy_mar_23)])\n",
        "totaly_values_energy_april = np.vstack([np.mean(totaly_energy_april_19), np.mean(totaly_energy_april_20), np.mean(totaly_energy_april_21), np.mean(totaly_energy_april_22), np.mean(totaly_energy_april_23)])\n",
        "totaly_values_energy_may = np.vstack([np.mean(totaly_energy_may_19), np.mean(totaly_energy_may_20), np.mean(totaly_energy_may_21), np.mean(totaly_energy_may_22), np.mean(totaly_energy_may_23)])\n",
        "totaly_values_energy_june = np.vstack([np.mean(totaly_energy_june_19), np.mean(totaly_energy_june_20), np.mean(totaly_energy_june_21), np.mean(totaly_energy_june_22), np.mean(totaly_energy_june_23)])\n",
        "totaly_values_energy_july = np.vstack([np.mean(totaly_energy_july_19), np.mean(totaly_energy_july_20), np.mean(totaly_energy_july_21), np.mean(totaly_energy_july_22), np.mean(totaly_energy_july_23)])\n",
        "totaly_values_energy_aug = np.vstack([np.mean(totaly_energy_aug_19), np.mean(totaly_energy_aug_20), np.mean(totaly_energy_aug_21), np.mean(totaly_energy_aug_22), np.mean(totaly_energy_aug_23)])\n",
        "totaly_values_energy_sep = np.vstack([np.mean(totaly_energy_sep_19), np.mean(totaly_energy_sep_20), np.mean(totaly_energy_sep_21), np.mean(totaly_energy_sep_22), np.mean(totaly_energy_sep_23)])\n",
        "totaly_values_energy_oct = np.vstack([np.mean(totaly_energy_oct_19), np.mean(totaly_energy_oct_20), np.mean(totaly_energy_oct_21), np.mean(totaly_energy_oct_22), np.mean(totaly_energy_oct_23)])\n",
        "totaly_values_energy_nov = np.vstack([np.mean(totaly_energy_nov_19), np.mean(totaly_energy_nov_20), np.mean(totaly_energy_nov_21), np.mean(totaly_energy_nov_22), np.mean(totaly_energy_nov_23)])\n",
        "totaly_values_energy_dec = np.vstack([np.mean(totaly_energy_dec_19), np.mean(totaly_energy_dec_20), np.mean(totaly_energy_dec_21), np.mean(totaly_energy_dec_22), np.mean(totaly_energy_dec_23)])\n",
        "types_font_energy = np.array(['Solar', 'Eolica', 'Hidroeletrica', 'Termoelêtrica', 'Nuclear'])"
      ],
      "metadata": {
        "id": "iI_DVgL89Rs5"
      },
      "execution_count": null,
      "outputs": []
    },
    {
      "cell_type": "code",
      "source": [
        "plt.bar(types_font_energy, totaly_values_energy_jan.reshape(-1))\n",
        "plt.title('JANEIRO - 2019/2020/2021/2022/2023')\n",
        "plt.show()\n",
        "\n",
        "plt.bar(types_font_energy, totaly_values_energy_feb.reshape(-1))\n",
        "plt.title('FEVEREIRO - 2019/2020/2021/2022/2023')\n",
        "plt.show()\n",
        "\n",
        "plt.bar(types_font_energy, totaly_values_energy_mar.reshape(-1))\n",
        "plt.title('MARÇO - 2019/2020/2021/2022/2023')\n",
        "plt.show()\n",
        "\n",
        "plt.bar(types_font_energy, totaly_values_energy_april.reshape(-1))\n",
        "plt.title('ABRIL - 2019/2020/2021/2022/2023')\n",
        "plt.show()\n",
        "\n",
        "plt.bar(types_font_energy, totaly_values_energy_may.reshape(-1))\n",
        "plt.title('MAIO - 2019/2020/2021/2022/2023')\n",
        "plt.show()\n",
        "\n",
        "plt.bar(types_font_energy, totaly_values_energy_june.reshape(-1))\n",
        "plt.title('JUNHO - 2019/2020/2021/2022/2023')\n",
        "plt.show()\n",
        "\n",
        "plt.bar(types_font_energy, totaly_values_energy_aug.reshape(-1))\n",
        "plt.title('AGOSTO - 2019/2020/2021/2022/2023')\n",
        "plt.show()\n",
        "\n",
        "plt.bar(types_font_energy, totaly_values_energy_sep.reshape(-1))\n",
        "plt.title('SETEMBRO - 2019/2020/2021/2022/2023')\n",
        "plt.show()\n",
        "\n",
        "plt.bar(types_font_energy, totaly_values_energy_oct.reshape(-1))\n",
        "plt.title('OUTUBRO - 2019/2020/2021/2022/2023')\n",
        "plt.show()\n",
        "\n",
        "plt.bar(types_font_energy, totaly_values_energy_nov.reshape(-1))\n",
        "plt.title('NOVEMBRO - 2019/2020/2021/2022/2023')\n",
        "plt.show()\n",
        "\n",
        "plt.bar(types_font_energy, totaly_values_energy_dec.reshape(-1))\n",
        "plt.title('DEZEMBRO - 2019/2020/2021/2022/2023')\n",
        "plt.show()"
      ],
      "metadata": {
        "colab": {
          "base_uri": "https://localhost:8080/",
          "height": 1000
        },
        "id": "W7cXHbLA-RPD",
        "outputId": "dba6b784-4aa9-4e5e-85de-33d80e9ecea1"
      },
      "execution_count": null,
      "outputs": [
        {
          "output_type": "display_data",
          "data": {
            "text/plain": [
              "<Figure size 640x480 with 1 Axes>"
            ],
            "image/png": "[encoded data removed]"
          },
          "metadata": {}
        },
        {
          "output_type": "display_data",
          "data": {
            "text/plain": [
              "<Figure size 640x480 with 1 Axes>"
            ],
            "image/png": "[encoded data removed]"
          },
          "metadata": {}
        },
        {
          "output_type": "display_data",
          "data": {
            "text/plain": [
              "<Figure size 640x480 with 1 Axes>"
            ],
            "image/png": "[encoded data removed]"
          },
          "metadata": {}
        },
        {
          "output_type": "display_data",
          "data": {
            "text/plain": [
              "<Figure size 640x480 with 1 Axes>"
            ],
            "image/png": "[encoded data removed]"
          },
          "metadata": {}
        },
        {
          "output_type": "display_data",
          "data": {
            "text/plain": [
              "<Figure size 640x480 with 1 Axes>"
            ],
            "image/png": "[encoded data removed]"
          },
          "metadata": {}
        },
        {
          "output_type": "display_data",
          "data": {
            "text/plain": [
              "<Figure size 640x480 with 1 Axes>"
            ],
            "image/png": "[encoded data removed]"
          },
          "metadata": {}
        },
        {
          "output_type": "display_data",
          "data": {
            "text/plain": [
              "<Figure size 640x480 with 1 Axes>"
            ],
            "image/png": "[encoded data removed]"
          },
          "metadata": {}
        },
        {
          "output_type": "display_data",
          "data": {
            "text/plain": [
              "<Figure size 640x480 with 1 Axes>"
            ],
            "image/png": "[encoded data removed]"
          },
          "metadata": {}
        },
        {
          "output_type": "display_data",
          "data": {
            "text/plain": [
              "<Figure size 640x480 with 1 Axes>"
            ],
            "image/png": "[encoded data removed]"
          },
          "metadata": {}
        },
        {
          "output_type": "display_data",
          "data": {
            "text/plain": [
              "<Figure size 640x480 with 1 Axes>"
            ],
            "image/png": "[encoded data removed]"
          },
          "metadata": {}
        },
        {
          "output_type": "display_data",
          "data": {
            "text/plain": [
              "<Figure size 640x480 with 1 Axes>"
            ],
            "image/png": "[encoded data removed]"
          },
          "metadata": {}
        }
      ]
    },
    {
      "cell_type": "code",
      "source": [
        "average_totaly_energy_values_jan_19 = np.mean(np.vstack([np.mean(totaly_energy_jan_19), np.mean(totaly_energy_jan_20), np.mean(totaly_energy_jan_21), np.mean(totaly_energy_jan_22), np.mean(totaly_energy_jan_23)]))\n",
        "average_totaly_energy_values_feb = np.mean(np.vstack([np.mean(totaly_energy_feb_19), np.mean(totaly_energy_feb_20), np.mean(totaly_energy_feb_21), np.mean(totaly_energy_feb_22), np.mean(totaly_energy_feb_23)]))\n",
        "average_totaly_energy_values_mar = np.mean(np.vstack([np.mean(totaly_energy_mar_19), np.mean(totaly_energy_mar_20), np.mean(totaly_energy_mar_21), np.mean(totaly_energy_mar_22), np.mean(totaly_energy_mar_23)]))\n",
        "average_totaly_energy_values_april = np.mean(np.vstack([np.mean(totaly_energy_april_19), np.mean(totaly_energy_april_20), np.mean(totaly_energy_april_21), np.mean(totaly_energy_april_22), np.mean(totaly_energy_april_23)]))\n",
        "average_totaly_energy_values_may = np.mean(np.vstack([np.mean(totaly_energy_may_19), np.mean(totaly_energy_may_20), np.mean(totaly_energy_may_21), np.mean(totaly_energy_may_22), np.mean(totaly_energy_may_23)]))\n",
        "average_totaly_energy_values_june = np.mean(np.vstack([np.mean(totaly_energy_june_19), np.mean(totaly_energy_june_20), np.mean(totaly_energy_june_21), np.mean(totaly_energy_june_22), np.mean(totaly_energy_june_23)]))\n",
        "average_totaly_energy_values_july = np.mean(np.vstack([np.mean(totaly_energy_july_19), np.mean(totaly_energy_july_20), np.mean(totaly_energy_july_21), np.mean(totaly_energy_july_22), np.mean(totaly_energy_july_23)]))\n",
        "average_totaly_energy_values_aug = np.mean(np.vstack([np.mean(totaly_energy_aug_19), np.mean(totaly_energy_aug_20), np.mean(totaly_energy_aug_21), np.mean(totaly_energy_aug_22), np.mean(totaly_energy_aug_23)]))\n",
        "average_totaly_energy_values_sep = np.mean(np.vstack([np.mean(totaly_energy_sep_19), np.mean(totaly_energy_sep_20), np.mean(totaly_energy_sep_21), np.mean(totaly_energy_sep_22), np.mean(totaly_energy_sep_23)]))\n",
        "average_totaly_energy_values_oct = np.mean(np.vstack([np.mean(totaly_energy_oct_19), np.mean(totaly_energy_oct_20), np.mean(totaly_energy_oct_21), np.mean(totaly_energy_oct_22), np.mean(totaly_energy_oct_23)]))\n",
        "average_totaly_energy_values_nov = np.mean(np.vstack([np.mean(totaly_energy_nov_19), np.mean(totaly_energy_nov_20), np.mean(totaly_energy_nov_21), np.mean(totaly_energy_nov_22), np.mean(totaly_energy_nov_23)]))\n",
        "average_totaly_energy_values_dec = np.mean(np.vstack([np.mean(totaly_energy_dec_19), np.mean(totaly_energy_dec_20), np.mean(totaly_energy_dec_21), np.mean(totaly_energy_dec_22), np.mean(totaly_energy_dec_23)]))"
      ],
      "metadata": {
        "id": "MWtDvNTNzjgM"
      },
      "execution_count": null,
      "outputs": []
    },
    {
      "cell_type": "code",
      "source": [
        "totaly_energy_values_months = np.array([average_totaly_energy_values_jan_19, average_totaly_energy_values_feb, average_totaly_energy_values_mar, average_totaly_energy_values_april, average_totaly_energy_values_may, average_totaly_energy_values_june, average_totaly_energy_values_july, average_totaly_energy_values_aug, average_totaly_energy_values_sep, average_totaly_energy_values_oct, average_totaly_energy_values_nov, average_totaly_energy_values_dec])"
      ],
      "metadata": {
        "id": "WCs7MRrL4TVi"
      },
      "execution_count": null,
      "outputs": []
    },
    {
      "cell_type": "code",
      "source": [
        "months_font_enegy = np.array(['Jan', 'Fev', 'Mar', 'Abril', 'Maio', 'Jun', 'Julho', 'Ago', 'Set', 'Out', 'Nov', 'Dez'])"
      ],
      "metadata": {
        "id": "ugbuwgM64BVB"
      },
      "execution_count": null,
      "outputs": []
    },
    {
      "cell_type": "code",
      "source": [
        "totaly_energy_values_months\n",
        "for i in range(1,12):\n",
        "  print(f\"\\nMês {i}:\")\n",
        "  print(\" Produção total por mês:\", totaly_energy_values_months[i])"
      ],
      "metadata": {
        "colab": {
          "base_uri": "https://localhost:8080/"
        },
        "id": "wxLEmxb2Sls9",
        "outputId": "e27c2d61-da15-42ce-ba7d-5978f7f104db"
      },
      "execution_count": null,
      "outputs": [
        {
          "output_type": "stream",
          "name": "stdout",
          "text": [
            "\n",
            "Mês 1:\n",
            " Produção total por mês: 543.48\n",
            "\n",
            "Mês 2:\n",
            " Produção total por mês: 572.4\n",
            "\n",
            "Mês 3:\n",
            " Produção total por mês: 572.72\n",
            "\n",
            "Mês 4:\n",
            " Produção total por mês: 633.68\n",
            "\n",
            "Mês 5:\n",
            " Produção total por mês: 609.6400000000001\n",
            "\n",
            "Mês 6:\n",
            " Produção total por mês: 591.96\n",
            "\n",
            "Mês 7:\n",
            " Produção total por mês: 709.4399999999999\n",
            "\n",
            "Mês 8:\n",
            " Produção total por mês: 633.0\n",
            "\n",
            "Mês 9:\n",
            " Produção total por mês: 674.28\n",
            "\n",
            "Mês 10:\n",
            " Produção total por mês: 656.24\n",
            "\n",
            "Mês 11:\n",
            " Produção total por mês: 556.0800000000002\n"
          ]
        }
      ]
    },
    {
      "cell_type": "code",
      "source": [
        "plt.bar(months_font_enegy, totaly_energy_values_months.reshape(-1))\n",
        "plt.title('Total de energia gerada em 5 anos')\n",
        "plt.show()"
      ],
      "metadata": {
        "colab": {
          "base_uri": "https://localhost:8080/",
          "height": 452
        },
        "id": "tP1LfYGi4N-y",
        "outputId": "d9fd9e26-5431-4eda-d568-48845699be61"
      },
      "execution_count": null,
      "outputs": [
        {
          "output_type": "display_data",
          "data": {
            "text/plain": [
              "<Figure size 640x480 with 1 Axes>"
            ],
            "image/png": "[encoded data removed]"
          },
          "metadata": {}
        }
      ]
    },
    {
      "cell_type": "code",
      "source": [
        "print(f'Agosto: {totaly_energy_values_months[7]}\\nOutubro: {totaly_energy_values_months[8]}\\nNovembro: {totaly_energy_values_months[9]}')"
      ],
      "metadata": {
        "colab": {
          "base_uri": "https://localhost:8080/"
        },
        "id": "xo-jC2KKUTrd",
        "outputId": "878af1d0-32bb-4ab4-d1b4-0c8d6f973e50"
      },
      "execution_count": null,
      "outputs": [
        {
          "output_type": "stream",
          "name": "stdout",
          "text": [
            "Agosto: 709.4399999999999\n",
            "Outubro: 633.0\n",
            "Novembro: 674.28\n"
          ]
        }
      ]
    },
    {
      "cell_type": "markdown",
      "source": [
        "# **Exercício 4 – Filtro de alta produção**\n",
        "Objetivo: Identificar valores altos de produção."
      ],
      "metadata": {
        "id": "J_6V5Mn18bCT"
      }
    },
    {
      "cell_type": "markdown",
      "source": [
        "# **Exercício 5 – Comparação entre fontes**\n",
        "Objetivo: Descobrir qual fonte teve maior produção total por ano.\n",
        "\n",
        "Em cada ano, qual foi a fonte com maior produção?\n",
        "\n",
        "2019: Hidroeletrica com 7021 gw gerados\n",
        "\n",
        "2020: Hidroeletrica com 5893 gw gerados\n",
        "\n",
        "2021: Solar com 8065 gw gerados\n",
        "\n",
        "2022: Hidroeletrica com 8270 gw gerados\n",
        "\n",
        "2023: Hidroeletrica com 6505 gw gerados"
      ],
      "metadata": {
        "id": "-pfWwfvb9uov"
      }
    },
    {
      "cell_type": "code",
      "source": [
        "transposed_database_with_months"
      ],
      "metadata": {
        "colab": {
          "base_uri": "https://localhost:8080/"
        },
        "id": "Ct1n-b2PI_mf",
        "outputId": "68df7b67-d2b2-4fb3-8c5b-47a54baa5e04"
      },
      "execution_count": null,
      "outputs": [
        {
          "output_type": "execute_result",
          "data": {
            "text/plain": [
              "array([[0.000e+00, 2.019e+03, 2.020e+03, 2.021e+03, 2.022e+03, 2.023e+03],\n",
              "       [1.000e+00, 3.020e+02, 6.580e+02, 5.850e+02, 7.100e+02, 6.840e+02],\n",
              "       [2.000e+00, 6.350e+02, 2.870e+02, 3.910e+02, 8.810e+02, 8.460e+02],\n",
              "       [3.000e+00, 4.700e+02, 5.720e+02, 4.760e+02, 6.750e+02, 2.200e+02],\n",
              "       [4.000e+00, 3.060e+02, 2.990e+02, 3.600e+02, 8.990e+02, 3.660e+02],\n",
              "       [5.000e+00, 2.710e+02, 8.630e+02, 6.590e+02, 9.820e+02, 4.730e+02],\n",
              "       [6.000e+00, 9.000e+02, 3.300e+02, 5.130e+02, 3.890e+02, 5.870e+02],\n",
              "       [7.000e+00, 2.200e+02, 8.610e+02, 2.210e+02, 8.860e+02, 8.000e+02],\n",
              "       [8.000e+00, 8.140e+02, 5.080e+02, 4.520e+02, 7.620e+02, 5.150e+02],\n",
              "       [9.000e+00, 3.210e+02, 9.690e+02, 9.470e+02, 7.660e+02, 2.130e+02],\n",
              "       [1.000e+01, 6.660e+02, 5.430e+02, 7.600e+02, 4.430e+02, 4.410e+02],\n",
              "       [1.100e+01, 4.140e+02, 6.910e+02, 6.740e+02, 7.040e+02, 9.760e+02],\n",
              "       [1.200e+01, 5.300e+02, 6.130e+02, 2.580e+02, 3.300e+02, 5.450e+02],\n",
              "       [1.300e+01, 7.640e+02, 5.870e+02, 4.010e+02, 5.370e+02, 7.200e+02],\n",
              "       [1.400e+01, 5.390e+02, 2.010e+02, 4.690e+02, 2.520e+02, 5.430e+02],\n",
              "       [1.500e+01, 2.910e+02, 5.890e+02, 4.700e+02, 9.910e+02, 3.280e+02],\n",
              "       [1.600e+01, 5.660e+02, 7.650e+02, 6.550e+02, 4.160e+02, 8.470e+02],\n",
              "       [1.700e+01, 6.540e+02, 3.050e+02, 6.610e+02, 9.630e+02, 6.710e+02],\n",
              "       [1.800e+01, 6.270e+02, 9.710e+02, 9.260e+02, 3.870e+02, 2.620e+02],\n",
              "       [1.900e+01, 7.080e+02, 6.760e+02, 4.510e+02, 5.790e+02, 3.380e+02],\n",
              "       [2.000e+01, 9.750e+02, 9.020e+02, 9.010e+02, 6.920e+02, 6.980e+02],\n",
              "       [2.100e+01, 2.340e+02, 6.010e+02, 4.950e+02, 2.400e+02, 7.920e+02],\n",
              "       [2.200e+01, 4.050e+02, 9.290e+02, 9.240e+02, 3.560e+02, 5.910e+02],\n",
              "       [2.300e+01, 2.800e+02, 7.550e+02, 9.190e+02, 2.140e+02, 8.740e+02],\n",
              "       [2.400e+01, 7.610e+02, 3.610e+02, 9.480e+02, 2.640e+02, 6.180e+02],\n",
              "       [2.500e+01, 4.880e+02, 7.020e+02, 9.680e+02, 8.900e+02, 3.700e+02],\n",
              "       [2.600e+01, 5.780e+02, 6.060e+02, 2.040e+02, 7.740e+02, 7.400e+02],\n",
              "       [2.700e+01, 9.720e+02, 7.730e+02, 4.170e+02, 9.420e+02, 2.350e+02],\n",
              "       [2.800e+01, 6.890e+02, 9.270e+02, 7.020e+02, 4.400e+02, 7.240e+02],\n",
              "       [2.900e+01, 4.300e+02, 2.980e+02, 9.660e+02, 7.630e+02, 3.590e+02],\n",
              "       [3.000e+01, 2.400e+02, 8.830e+02, 5.970e+02, 2.950e+02, 8.980e+02],\n",
              "       [3.100e+01, 2.270e+02, 9.250e+02, 9.940e+02, 9.330e+02, 4.420e+02],\n",
              "       [3.200e+01, 3.340e+02, 7.460e+02, 5.920e+02, 6.840e+02, 2.850e+02],\n",
              "       [3.300e+01, 4.000e+02, 9.380e+02, 4.060e+02, 6.060e+02, 9.950e+02],\n",
              "       [3.400e+01, 9.790e+02, 8.120e+02, 2.140e+02, 4.300e+02, 7.770e+02],\n",
              "       [3.500e+01, 2.320e+02, 6.610e+02, 7.530e+02, 9.480e+02, 8.810e+02],\n",
              "       [3.600e+01, 2.470e+02, 8.420e+02, 6.600e+02, 8.540e+02, 7.560e+02],\n",
              "       [3.700e+01, 7.730e+02, 6.720e+02, 9.090e+02, 8.070e+02, 3.120e+02],\n",
              "       [3.800e+01, 8.450e+02, 4.300e+02, 6.550e+02, 6.710e+02, 8.120e+02],\n",
              "       [3.900e+01, 9.950e+02, 3.890e+02, 6.100e+02, 4.320e+02, 8.240e+02],\n",
              "       [4.000e+01, 2.270e+02, 4.240e+02, 8.480e+02, 8.910e+02, 2.800e+02],\n",
              "       [4.100e+01, 8.190e+02, 5.840e+02, 5.170e+02, 3.120e+02, 8.980e+02],\n",
              "       [4.200e+01, 7.550e+02, 5.760e+02, 8.760e+02, 6.960e+02, 3.120e+02],\n",
              "       [4.300e+01, 5.390e+02, 4.820e+02, 4.240e+02, 6.410e+02, 2.010e+02],\n",
              "       [4.400e+01, 9.970e+02, 8.320e+02, 4.330e+02, 7.630e+02, 8.410e+02],\n",
              "       [4.500e+01, 5.300e+02, 8.270e+02, 8.830e+02, 4.670e+02, 4.190e+02],\n",
              "       [4.600e+01, 8.390e+02, 9.440e+02, 8.630e+02, 7.090e+02, 7.650e+02],\n",
              "       [4.700e+01, 7.050e+02, 4.580e+02, 5.730e+02, 5.850e+02, 9.350e+02],\n",
              "       [4.800e+01, 5.470e+02, 5.580e+02, 8.710e+02, 5.860e+02, 4.240e+02],\n",
              "       [4.900e+01, 5.840e+02, 4.020e+02, 8.080e+02, 7.100e+02, 6.140e+02],\n",
              "       [5.000e+01, 6.020e+02, 3.830e+02, 4.000e+02, 3.460e+02, 4.970e+02],\n",
              "       [5.100e+01, 8.370e+02, 3.220e+02, 3.230e+02, 3.470e+02, 8.100e+02],\n",
              "       [5.200e+01, 3.290e+02, 6.000e+02, 3.860e+02, 9.100e+02, 4.620e+02],\n",
              "       [5.300e+01, 2.520e+02, 9.660e+02, 5.250e+02, 6.880e+02, 9.630e+02],\n",
              "       [5.400e+01, 8.830e+02, 4.930e+02, 6.630e+02, 8.390e+02, 3.430e+02],\n",
              "       [5.500e+01, 9.290e+02, 4.790e+02, 5.480e+02, 7.500e+02, 5.450e+02],\n",
              "       [5.600e+01, 8.710e+02, 8.090e+02, 9.700e+02, 5.370e+02, 8.230e+02],\n",
              "       [5.700e+01, 9.090e+02, 3.970e+02, 8.590e+02, 8.400e+02, 7.710e+02],\n",
              "       [5.800e+01, 6.150e+02, 7.100e+02, 9.630e+02, 9.780e+02, 2.010e+02],\n",
              "       [5.900e+01, 4.460e+02, 9.510e+02, 6.020e+02, 6.720e+02, 5.030e+02],\n",
              "       [6.000e+01, 6.380e+02, 3.430e+02, 5.450e+02, 3.500e+02, 4.530e+02]])"
            ]
          },
          "metadata": {},
          "execution_count": 79
        }
      ]
    },
    {
      "cell_type": "code",
      "source": [
        "transposed_database_with_months.shape"
      ],
      "metadata": {
        "colab": {
          "base_uri": "https://localhost:8080/"
        },
        "id": "nbQx0GVLAA1T",
        "outputId": "71fe2b14-8b6d-439c-8664-c4166d14a62e"
      },
      "execution_count": null,
      "outputs": [
        {
          "output_type": "execute_result",
          "data": {
            "text/plain": [
              "(61, 6)"
            ]
          },
          "metadata": {},
          "execution_count": 67
        }
      ]
    },
    {
      "cell_type": "code",
      "source": [
        "transposed_database_with_months_clear = transposed_database_with_months[1:, 1:]\n",
        "transposed_database_with_months_flat = transposed_database_with_months_clear.flatten()\n",
        "transposed_database_with_months_reshape = transposed_database_with_months_flat.reshape((5,5,12))\n",
        "anualy_sum_for_font = np.sum(transposed_database_with_months_reshape, axis=2)"
      ],
      "metadata": {
        "id": "LWIvjNCsHc9o"
      },
      "execution_count": null,
      "outputs": []
    },
    {
      "cell_type": "code",
      "source": [
        "transposed_database_with_months_clear"
      ],
      "metadata": {
        "colab": {
          "base_uri": "https://localhost:8080/"
        },
        "id": "jO85BiH3KkEf",
        "outputId": "33eaee44-fa6c-4843-cb54-7979d6f7258d"
      },
      "execution_count": null,
      "outputs": [
        {
          "output_type": "execute_result",
          "data": {
            "text/plain": [
              "array([[302., 658., 585., 710., 684.],\n",
              "       [635., 287., 391., 881., 846.],\n",
              "       [470., 572., 476., 675., 220.],\n",
              "       [306., 299., 360., 899., 366.],\n",
              "       [271., 863., 659., 982., 473.],\n",
              "       [900., 330., 513., 389., 587.],\n",
              "       [220., 861., 221., 886., 800.],\n",
              "       [814., 508., 452., 762., 515.],\n",
              "       [321., 969., 947., 766., 213.],\n",
              "       [666., 543., 760., 443., 441.],\n",
              "       [414., 691., 674., 704., 976.],\n",
              "       [530., 613., 258., 330., 545.],\n",
              "       [764., 587., 401., 537., 720.],\n",
              "       [539., 201., 469., 252., 543.],\n",
              "       [291., 589., 470., 991., 328.],\n",
              "       [566., 765., 655., 416., 847.],\n",
              "       [654., 305., 661., 963., 671.],\n",
              "       [627., 971., 926., 387., 262.],\n",
              "       [708., 676., 451., 579., 338.],\n",
              "       [975., 902., 901., 692., 698.],\n",
              "       [234., 601., 495., 240., 792.],\n",
              "       [405., 929., 924., 356., 591.],\n",
              "       [280., 755., 919., 214., 874.],\n",
              "       [761., 361., 948., 264., 618.],\n",
              "       [488., 702., 968., 890., 370.],\n",
              "       [578., 606., 204., 774., 740.],\n",
              "       [972., 773., 417., 942., 235.],\n",
              "       [689., 927., 702., 440., 724.],\n",
              "       [430., 298., 966., 763., 359.],\n",
              "       [240., 883., 597., 295., 898.],\n",
              "       [227., 925., 994., 933., 442.],\n",
              "       [334., 746., 592., 684., 285.],\n",
              "       [400., 938., 406., 606., 995.],\n",
              "       [979., 812., 214., 430., 777.],\n",
              "       [232., 661., 753., 948., 881.],\n",
              "       [247., 842., 660., 854., 756.],\n",
              "       [773., 672., 909., 807., 312.],\n",
              "       [845., 430., 655., 671., 812.],\n",
              "       [995., 389., 610., 432., 824.],\n",
              "       [227., 424., 848., 891., 280.],\n",
              "       [819., 584., 517., 312., 898.],\n",
              "       [755., 576., 876., 696., 312.],\n",
              "       [539., 482., 424., 641., 201.],\n",
              "       [997., 832., 433., 763., 841.],\n",
              "       [530., 827., 883., 467., 419.],\n",
              "       [839., 944., 863., 709., 765.],\n",
              "       [705., 458., 573., 585., 935.],\n",
              "       [547., 558., 871., 586., 424.],\n",
              "       [584., 402., 808., 710., 614.],\n",
              "       [602., 383., 400., 346., 497.],\n",
              "       [837., 322., 323., 347., 810.],\n",
              "       [329., 600., 386., 910., 462.],\n",
              "       [252., 966., 525., 688., 963.],\n",
              "       [883., 493., 663., 839., 343.],\n",
              "       [929., 479., 548., 750., 545.],\n",
              "       [871., 809., 970., 537., 823.],\n",
              "       [909., 397., 859., 840., 771.],\n",
              "       [615., 710., 963., 978., 201.],\n",
              "       [446., 951., 602., 672., 503.],\n",
              "       [638., 343., 545., 350., 453.]])"
            ]
          },
          "metadata": {},
          "execution_count": 76
        }
      ]
    },
    {
      "cell_type": "code",
      "source": [
        "anualy_sum_for_font"
      ],
      "metadata": {
        "colab": {
          "base_uri": "https://localhost:8080/"
        },
        "id": "eUraQkFxI3aI",
        "outputId": "1242c2ca-0400-4728-b9cf-2160095ec8a4"
      },
      "execution_count": null,
      "outputs": [
        {
          "output_type": "execute_result",
          "data": {
            "text/plain": [
              "array([[7021., 6376., 6994., 7422., 6619.],\n",
              "       [5893., 7621., 7571., 7813., 6941.],\n",
              "       [8065., 7533., 7127., 7657., 8041.],\n",
              "       [8270., 6768., 7397., 8641., 7716.],\n",
              "       [6505., 6598., 8306., 9203., 6682.]])"
            ]
          },
          "metadata": {},
          "execution_count": 77
        }
      ]
    },
    {
      "cell_type": "code",
      "source": [
        "for i, ano in enumerate(range(2019, 2024)):\n",
        "    print(f\"Ano {ano}:\")\n",
        "    print(\"Produção total por fonte:\", anualy_sum_for_font[i])\n",
        "    print(\"Fonte com maior produção:\", np.argmax(anualy_sum_for_font[i]))"
      ],
      "metadata": {
        "colab": {
          "base_uri": "https://localhost:8080/"
        },
        "id": "IpWHL0RTIV65",
        "outputId": "0cf63210-ae9e-41f8-f509-e8002d857e4e"
      },
      "execution_count": null,
      "outputs": [
        {
          "output_type": "stream",
          "name": "stdout",
          "text": [
            "Ano 2019:\n",
            "Produção total por fonte: [7021. 6376. 6994. 7422. 6619.]\n",
            "Fonte com maior produção: 3\n",
            "Ano 2020:\n",
            "Produção total por fonte: [5893. 7621. 7571. 7813. 6941.]\n",
            "Fonte com maior produção: 3\n",
            "Ano 2021:\n",
            "Produção total por fonte: [8065. 7533. 7127. 7657. 8041.]\n",
            "Fonte com maior produção: 0\n",
            "Ano 2022:\n",
            "Produção total por fonte: [8270. 6768. 7397. 8641. 7716.]\n",
            "Fonte com maior produção: 3\n",
            "Ano 2023:\n",
            "Produção total por fonte: [6505. 6598. 8306. 9203. 6682.]\n",
            "Fonte com maior produção: 3\n"
          ]
        }
      ]
    }
  ]
}